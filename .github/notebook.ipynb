{
 "cells": [
  {
   "cell_type": "markdown",
   "metadata": {},
   "source": [
    "Assignment7 / countries.py"
   ]
  },
  {
   "cell_type": "code",
   "execution_count": 11,
   "metadata": {},
   "outputs": [
    {
     "name": "stdout",
     "output_type": "stream",
     "text": [
      "{'France': 'Paris', 'Japan': 'Tokye', 'Canada': 'Ottawa', 'India': 'New Delhi', 'italy': 'Rome'}\n"
     ]
    }
   ],
   "source": [
    "#Create a dictionary where the keys are the namesof 5 different countries and the values are their capitels. write a program to display all the countries and and their capitals\n",
    "\n",
    "\n",
    "\n",
    "#Create dictionary of 5 different countries with values are their capitals:\n",
    "\n",
    "countries = {\n",
    "    \"France\" : \"Paris\" ,\n",
    "    \"Japan\" : \"Tokye\" ,\n",
    "    \"Canada\" : \"Ottawa\" ,\n",
    "    \"India\" : \"New Delhi\" ,\n",
    "    \"italy\" : \"Rome\" ,\n",
    "    \n",
    "}\n",
    "\n",
    "print(countries)"
   ]
  },
  {
   "cell_type": "markdown",
   "metadata": {},
   "source": [
    "Assignment7 / Duplicate.py"
   ]
  },
  {
   "cell_type": "code",
   "execution_count": 13,
   "metadata": {},
   "outputs": [
    {
     "name": "stdout",
     "output_type": "stream",
     "text": [
      "Before duplicate:\n",
      "['zubair', 'hamza', 'ahmed', 'jamshed', 'ali', 'zubair', 'jamshed']\n",
      "After duplicate:\n",
      "{'zubair', 'jamshed', 'hamza', 'ali', 'ahmed'}\n"
     ]
    }
   ],
   "source": [
    "#Write a python program that  removes all duplicates from a given list and prints the new list without duplicates:\n",
    "\n",
    "\n",
    "#List of names:\n",
    "Names = [\"zubair\",\"hamza\",\"ahmed\",\"jamshed\",\"ali\",\"zubair\",\"jamshed\"]\n",
    "#remove duplicates from list:\n",
    "duplicate_list = set(Names)\n",
    "\n",
    "#Before duplicating:\n",
    "print(f\"Before duplicate:\\n{Names}\")\n",
    "\n",
    "#after duplicate:\n",
    "print(f\"After duplicate:\\n{duplicate_list}\")"
   ]
  },
  {
   "cell_type": "markdown",
   "metadata": {},
   "source": [
    "Assignment7 \\ fruits.py"
   ]
  },
  {
   "cell_type": "code",
   "execution_count": 16,
   "metadata": {},
   "outputs": [
    {
     "ename": "TypeError",
     "evalue": "unsupported operand type(s) for //: 'list' and 'int'",
     "output_type": "error",
     "traceback": [
      "\u001b[0;31m---------------------------------------------------------------------------\u001b[0m",
      "\u001b[0;31mTypeError\u001b[0m                                 Traceback (most recent call last)",
      "Cell \u001b[0;32mIn[16], line 17\u001b[0m\n\u001b[1;32m     13\u001b[0m \u001b[38;5;66;03m#Access the first, middle, and last element of the list:\u001b[39;00m\n\u001b[1;32m     16\u001b[0m first_fruit \u001b[38;5;241m=\u001b[39m fruits[\u001b[38;5;241m0\u001b[39m]\n\u001b[0;32m---> 17\u001b[0m middle_fruit \u001b[38;5;241m=\u001b[39m fruits[\u001b[38;5;28mlen\u001b[39m(\u001b[43mfruits\u001b[49m\u001b[38;5;241;43m/\u001b[39;49m\u001b[38;5;241;43m/\u001b[39;49m\u001b[38;5;241;43m2\u001b[39;49m)] \n\u001b[1;32m     18\u001b[0m last_fruit \u001b[38;5;241m=\u001b[39m fruits[\u001b[38;5;241m-\u001b[39m\u001b[38;5;241m1\u001b[39m]  \n\u001b[1;32m     21\u001b[0m \u001b[38;5;66;03m#print access fruits:\u001b[39;00m\n",
      "\u001b[0;31mTypeError\u001b[0m: unsupported operand type(s) for //: 'list' and 'int'"
     ]
    }
   ],
   "source": [
    "#Given a list of fruits: ['Apple','banana','chery','orange','kiwi','mango',]\n",
    "#write a program to:\n",
    "\n",
    "#Access the first , middle,and last element of the list:\n",
    "#Change the second element to 'blueberry'.\n",
    "\n",
    "\n",
    "#Declare list of fruits:\n",
    "\n",
    "fruits = ['apple', 'banana', 'chery', 'orange', 'kiwi', 'mango']\n",
    "\n",
    "\n",
    "#Access the first, middle, and last element of the list:\n",
    "\n",
    "\n",
    "first_fruit = fruits[0]\n",
    "middle_fruit = fruits[len(fruits)//2] \n",
    "last_fruit = fruits[-1]  \n",
    "\n",
    "\n",
    "#print access fruits:\n",
    "\n",
    "print(f\"first fruit: {first_fruit}\")\n",
    "print(f\"middle fruit: {middle_fruit}\")\n",
    "print(f\"last fruit: {last_fruit}\")\n",
    "\n",
    "#change the second element to 'blueberry':\n",
    "\n",
    "fruits[1] = \"blueberry\"\n",
    "\n",
    "print(fruits)"
   ]
  }
 ],
 "metadata": {
  "kernelspec": {
   "display_name": "Python 3",
   "language": "python",
   "name": "python3"
  },
  "language_info": {
   "codemirror_mode": {
    "name": "ipython",
    "version": 3
   },
   "file_extension": ".py",
   "mimetype": "text/x-python",
   "name": "python",
   "nbconvert_exporter": "python",
   "pygments_lexer": "ipython3",
   "version": "3.12.4"
  }
 },
 "nbformat": 4,
 "nbformat_minor": 2
}
