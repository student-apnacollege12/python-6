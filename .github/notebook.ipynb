{
 "cells": [
  {
   "cell_type": "markdown",
   "metadata": {},
   "source": [
    "Assignment7 / countries.py"
   ]
  },
  {
   "cell_type": "code",
   "execution_count": 11,
   "metadata": {},
   "outputs": [
    {
     "name": "stdout",
     "output_type": "stream",
     "text": [
      "{'France': 'Paris', 'Japan': 'Tokye', 'Canada': 'Ottawa', 'India': 'New Delhi', 'italy': 'Rome'}\n"
     ]
    }
   ],
   "source": [
    "#Create a dictionary where the keys are the namesof 5 different countries and the values are their capitels. write a program to display all the countries and and their capitals\n",
    "\n",
    "\n",
    "\n",
    "#Create dictionary of 5 different countries with values are their capitals:\n",
    "\n",
    "countries = {\n",
    "    \"France\" : \"Paris\" ,\n",
    "    \"Japan\" : \"Tokye\" ,\n",
    "    \"Canada\" : \"Ottawa\" ,\n",
    "    \"India\" : \"New Delhi\" ,\n",
    "    \"italy\" : \"Rome\" ,\n",
    "    \n",
    "}\n",
    "\n",
    "print(countries)"
   ]
  },
  {
   "cell_type": "markdown",
   "metadata": {},
   "source": [
    "Assignment7 / Duplicate.py"
   ]
  },
  {
   "cell_type": "code",
   "execution_count": 12,
   "metadata": {},
   "outputs": [
    {
     "name": "stdout",
     "output_type": "stream",
     "text": [
      "Before duplicate:\n",
      "['zubair', 'hamza', 'ahmed', 'jamshed', 'ali', 'zubair', 'jamshed']\n",
      "Ater duplicate:\n",
      "{'zubair', 'jamshed', 'hamza', 'ali', 'ahmed'}\n"
     ]
    }
   ],
   "source": [
    "#Write a python program that  removes all duplicates from a given list and prints the new list without duplicates:\n",
    "\n",
    "\n",
    "#List of names:\n",
    "Names = [\"zubair\",\"hamza\",\"ahmed\",\"jamshed\",\"ali\",\"zubair\",\"jamshed\"]\n",
    "#remove duplicates from list:\n",
    "duplicate_list = set(Names)\n",
    "\n",
    "#Before duplicating:\n",
    "print(f\"Before duplicate:\\n{Names}\")\n",
    "\n",
    "#after duplicate:\n",
    "print(f\"After duplicate:\\n{duplicate_list}\")"
   ]
  }
 ],
 "metadata": {
  "kernelspec": {
   "display_name": "Python 3",
   "language": "python",
   "name": "python3"
  },
  "language_info": {
   "codemirror_mode": {
    "name": "ipython",
    "version": 3
   },
   "file_extension": ".py",
   "mimetype": "text/x-python",
   "name": "python",
   "nbconvert_exporter": "python",
   "pygments_lexer": "ipython3",
   "version": "3.12.4"
  }
 },
 "nbformat": 4,
 "nbformat_minor": 2
}
