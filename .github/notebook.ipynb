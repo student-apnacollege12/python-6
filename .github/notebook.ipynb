{
 "cells": [
  {
   "cell_type": "markdown",
   "metadata": {},
   "source": [
    "Assignment7 / countries.py"
   ]
  },
  {
   "cell_type": "code",
   "execution_count": 11,
   "metadata": {},
   "outputs": [
    {
     "name": "stdout",
     "output_type": "stream",
     "text": [
      "{'France': 'Paris', 'Japan': 'Tokye', 'Canada': 'Ottawa', 'India': 'New Delhi', 'italy': 'Rome'}\n"
     ]
    }
   ],
   "source": [
    "#Create a dictionary where the keys are the namesof 5 different countries and the values are their capitels. write a program to display all the countries and and their capitals\n",
    "\n",
    "\n",
    "\n",
    "#Create dictionary of 5 different countries with values are their capitals:\n",
    "\n",
    "countries = {\n",
    "    \"France\" : \"Paris\" ,\n",
    "    \"Japan\" : \"Tokye\" ,\n",
    "    \"Canada\" : \"Ottawa\" ,\n",
    "    \"India\" : \"New Delhi\" ,\n",
    "    \"italy\" : \"Rome\" ,\n",
    "    \n",
    "}\n",
    "\n",
    "print(countries)"
   ]
  },
  {
   "cell_type": "markdown",
   "metadata": {},
   "source": [
    "Assignment7 / Duplicate.py"
   ]
  },
  {
   "cell_type": "code",
   "execution_count": 13,
   "metadata": {},
   "outputs": [
    {
     "name": "stdout",
     "output_type": "stream",
     "text": [
      "Before duplicate:\n",
      "['zubair', 'hamza', 'ahmed', 'jamshed', 'ali', 'zubair', 'jamshed']\n",
      "After duplicate:\n",
      "{'zubair', 'jamshed', 'hamza', 'ali', 'ahmed'}\n"
     ]
    }
   ],
   "source": [
    "#Write a python program that  removes all duplicates from a given list and prints the new list without duplicates:\n",
    "\n",
    "\n",
    "#List of names:\n",
    "Names = [\"zubair\",\"hamza\",\"ahmed\",\"jamshed\",\"ali\",\"zubair\",\"jamshed\"]\n",
    "#remove duplicates from list:\n",
    "duplicate_list = set(Names)\n",
    "\n",
    "#Before duplicating:\n",
    "print(f\"Before duplicate:\\n{Names}\")\n",
    "\n",
    "#after duplicate:\n",
    "print(f\"After duplicate:\\n{duplicate_list}\")"
   ]
  },
  {
   "cell_type": "markdown",
   "metadata": {},
   "source": [
    "Assignment7 \\ fruits.py"
   ]
  },
  {
   "cell_type": "code",
   "execution_count": 17,
   "metadata": {},
   "outputs": [
    {
     "name": "stdout",
     "output_type": "stream",
     "text": [
      "first fruit: apple\n",
      "middle fruit: orange\n",
      "last fruit: mango\n",
      "['apple', 'blueberry', 'chery', 'orange', 'kiwi', 'mango']\n"
     ]
    }
   ],
   "source": [
    "#Given a list of fruits: ['Apple','banana','chery','orange','kiwi','mango',]\n",
    "#write a program to:\n",
    "\n",
    "#Access the first , middle,and last element of the list:\n",
    "#Change the second element to 'blueberry'.\n",
    "\n",
    "\n",
    "#Declare list of fruits:\n",
    "\n",
    "fruits = ['apple', 'banana', 'chery', 'orange', 'kiwi', 'mango']\n",
    "\n",
    "\n",
    "#Access the first, middle, and last element of the list:\n",
    "\n",
    "\n",
    "first_fruit = fruits[0]\n",
    "middle_fruit = fruits[len(fruits)//2] \n",
    "last_fruit = fruits[-1]  \n",
    "\n",
    "\n",
    "#print access fruits:\n",
    "\n",
    "print(f\"first fruit: {first_fruit}\")\n",
    "print(f\"middle fruit: {middle_fruit}\")\n",
    "print(f\"last fruit: {last_fruit}\")\n",
    "\n",
    "#change the second element to 'blueberry':\n",
    "\n",
    "fruits[1] = \"blueberry\"\n",
    "\n",
    "print(fruits)"
   ]
  },
  {
   "cell_type": "markdown",
   "metadata": {},
   "source": [
    "Assignment7 / grade.py "
   ]
  },
  {
   "cell_type": "code",
   "execution_count": 1,
   "metadata": {},
   "outputs": [
    {
     "name": "stdout",
     "output_type": "stream",
     "text": [
      "{'name': 'john', 'age': 22, 'grade': 'A', 'major': 'computer science'}\n"
     ]
    }
   ],
   "source": [
    "#weite a program to update the grade  value to A and add a new key-value pair for major with the value computer science.\n",
    "\n",
    "\n",
    "#create a dictionary of student:\n",
    "\n",
    "student = {\n",
    "    \"name\": \"john\",\n",
    "    \"age\": 22,\n",
    "    \"grade\": \"B\"\n",
    "\n",
    "}    \n",
    "\n",
    "#update the grade value to A :\n",
    "update = student[\"grade\"] = \"A\"\n",
    "\n",
    "\n",
    "#add a new key value pair for major with the value computer science :\n",
    "student.update({\"major\": \"computer science\"})\n",
    "\n",
    "print(student)"
   ]
  },
  {
   "cell_type": "markdown",
   "metadata": {},
   "source": [
    "University-System-project in Python"
   ]
  },
  {
   "cell_type": "code",
   "execution_count": 14,
   "metadata": {},
   "outputs": [
    {
     "name": "stdout",
     "output_type": "stream",
     "text": [
      "University System\n",
      "University System\n"
     ]
    }
   ],
   "source": [
    "class University:\n",
    "    def __init__(self, name):\n",
    "        self.name = name\n",
    "        self.students = []\n",
    "        self.teachers = []\n",
    "        self.section = []\n",
    "\n",
    "    def dis(self):\n",
    "        print(f\"{self.name}\") \n",
    "\n",
    "\n",
    "    def add_student(self,student):\n",
    "        self.students.append(student) \n",
    "\n",
    "    def add_teacher(self,teacher):\n",
    "        self.teachers.append(teacher)\n",
    "\n",
    "    def add_section(self,section):\n",
    "        self.section.append(section)\n",
    "\n",
    "    def display(self):\n",
    "        print(f\"total sections: {len(self.section)}\")\n",
    "        for section in self.section:\n",
    "            section.display_section_info()\n",
    "\n",
    "class Human:\n",
    "    def __init__(self,name,age):\n",
    "        self.name = name\n",
    "        self.age = age\n",
    "\n",
    "\n",
    "\n",
    "class Student(Human):\n",
    "    def __init__(self,name,age,student_id):\n",
    "        super().__init__(name,age)\n",
    "        self.student_id = student_id\n",
    "\n",
    "\n",
    "\n",
    "class Teacher(Human):\n",
    "    def __init__(self,name,age,teacher_id):\n",
    "        super().__init__(name,age)\n",
    "        self.teacher_id = teacher_id\n",
    "\n",
    "\n",
    "class Section:\n",
    "    def __init__(self,section_name,teacher,students,timing):\n",
    "        self.section_name = section_name\n",
    "        self.teacher = teacher\n",
    "        self.students = students\n",
    "        self.timing = timing\n",
    "\n",
    "def display_section_info(self):\n",
    "    print(f\"Section Name: {self.section_name}\")\n",
    "    print(f\"Timing: {self.timing}\")\n",
    "    print(f\"Teacher Name: {self.teacher.name} (ID: {self.teacher.teacher_id})\")\n",
    "    for student in self.students:\n",
    "        print(f\" _ {student.name} ID: {student.student_id}\")\n",
    "\n",
    "\n",
    "\n",
    "University = University(\"University System\")\n",
    "\n",
    "\n",
    "student1 = Student(\"Ali\",21,1)\n",
    "student2 = Student(\"Hamza\",20,2)\n",
    "student3 = Student(\"Umair\",22,3)\n",
    "student4 = Student(\"Zahid\",25,4)\n",
    "student5 = Student(\"Zubair\",23,5)\n",
    "student6 = Student(\"Laiba\",21,6)\n",
    "student7 = Student(\"Awais\",20,7)\n",
    "student8 = Student(\"Shazed\",26,8)\n",
    "student9 = Student(\"Jamshed\",23,9)\n",
    "\n",
    "\n",
    "University.add_student(student1)\n",
    "University.add_student(student2)\n",
    "University.add_student(student3)\n",
    "University.add_student(student4)\n",
    "University.add_student(student5)\n",
    "University.add_student(student6)\n",
    "University.add_student(student7)\n",
    "University.add_student(student8)\n",
    "University.add_student(student9)\n",
    "\n",
    "\n",
    "\n",
    "Teacher1 = Teacher(\"Mahmood\",45,10)\n",
    "Teacher2 = Teacher(\"Saba\",42,20)\n",
    "Teacher3 = Teacher(\"Zafar\",40,30)\n",
    "\n",
    "\n",
    "\n",
    "University.add_teacher(Teacher1)\n",
    "University.add_teacher(Teacher2)\n",
    "University.add_teacher(Teacher3)\n",
    "\n",
    "\n",
    "\n",
    "Section1 = Section(\"English\",Teacher1,[student1,student2,student3],\"9:00AM - 11:00AM\" )\n",
    "Section2 = Section(\"Math\",Teacher2,[student4,student5,student6],\"12:00AM - 2:00PM\" )\n",
    "Section3 = Section(\"AI\",Teacher3,[student7,student8,student9],\"3:00PM - 5:00PM\" )\n",
    "\n",
    "University.add_section(Section1)\n",
    "University.add_section(Section2)\n",
    "University.add_section(Section3)\n",
    "\n",
    "\n",
    "\n",
    "University.dis()\n",
    "University.dis()\n",
    "\n",
    "\n",
    "\n",
    "\n"
   ]
  }
 ],
 "metadata": {
  "kernelspec": {
   "display_name": "Python 3",
   "language": "python",
   "name": "python3"
  },
  "language_info": {
   "codemirror_mode": {
    "name": "ipython",
    "version": 3
   },
   "file_extension": ".py",
   "mimetype": "text/x-python",
   "name": "python",
   "nbconvert_exporter": "python",
   "pygments_lexer": "ipython3",
   "version": "3.12.4"
  }
 },
 "nbformat": 4,
 "nbformat_minor": 2
}
